{
 "cells": [
  {
   "cell_type": "code",
   "execution_count": 1,
   "id": "0c22ca69",
   "metadata": {},
   "outputs": [
    {
     "name": "stdout",
     "output_type": "stream",
     "text": [
      "MoFo!\n"
     ]
    }
   ],
   "source": [
    "print(\"MoFo!\")"
   ]
  },
  {
   "cell_type": "markdown",
   "id": "7ef618cc",
   "metadata": {},
   "source": [
    "This cell does a simple sum"
   ]
  },
  {
   "cell_type": "code",
   "execution_count": 2,
   "id": "567ab74a",
   "metadata": {},
   "outputs": [
    {
     "data": {
      "text/plain": [
       "10"
      ]
     },
     "execution_count": 2,
     "metadata": {},
     "output_type": "execute_result"
    }
   ],
   "source": [
    "5 + 5"
   ]
  },
  {
   "cell_type": "code",
   "execution_count": 3,
   "id": "065ff4f4",
   "metadata": {},
   "outputs": [],
   "source": [
    "import pandas as pd\n",
    "import numpy as np\n",
    "import matplotlib.pyplot as plt\n",
    "import sklearn"
   ]
  },
  {
   "cell_type": "code",
   "execution_count": 4,
   "id": "f3ea87b5",
   "metadata": {},
   "outputs": [
    {
     "name": "stdout",
     "output_type": "stream",
     "text": [
      "Ready to rumble !!!\n"
     ]
    }
   ],
   "source": [
    "print(\"Ready to rumble !!!\")"
   ]
  },
  {
   "cell_type": "code",
   "execution_count": null,
   "id": "50cfccb3",
   "metadata": {},
   "outputs": [],
   "source": []
  }
 ],
 "metadata": {
  "kernelspec": {
   "display_name": "Python 3 (ipykernel)",
   "language": "python",
   "name": "python3"
  },
  "language_info": {
   "codemirror_mode": {
    "name": "ipython",
    "version": 3
   },
   "file_extension": ".py",
   "mimetype": "text/x-python",
   "name": "python",
   "nbconvert_exporter": "python",
   "pygments_lexer": "ipython3",
   "version": "3.8.16"
  }
 },
 "nbformat": 4,
 "nbformat_minor": 5
}
